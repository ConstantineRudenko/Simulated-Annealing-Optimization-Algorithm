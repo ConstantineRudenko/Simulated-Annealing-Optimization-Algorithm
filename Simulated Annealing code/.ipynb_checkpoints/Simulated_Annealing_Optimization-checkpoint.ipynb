{
 "cells": [
  {
   "cell_type": "markdown",
   "metadata": {},
   "source": [
    "C:\\Users\\Zaman\\AppData\\Local\\Julia-0.3.10"
   ]
  },
  {
   "cell_type": "code",
   "execution_count": 45,
   "metadata": {},
   "outputs": [],
   "source": [
    "# Mohammad Asif Zaman\n",
    "# Original version date: Aug. 2015\n",
    "# Current version date: June 4, 2018\n",
    "# Main Julia notebook (Jupyter) file\n",
    "# ========================================\n",
    "\n",
    "# The following files are requried to run this code:\n",
    "# 1. fitness.jl\n",
    "# 2. progress_bar.jl"
   ]
  },
  {
   "cell_type": "code",
   "execution_count": 46,
   "metadata": {},
   "outputs": [],
   "source": [
    "# The following packages must be installed\n",
    "\n",
    "using PyCall\n",
    "using PyPlot\n"
   ]
  },
  {
   "cell_type": "code",
   "execution_count": 47,
   "metadata": {},
   "outputs": [],
   "source": [
    "include(\"progress_bar.jl\");\n",
    "include(\"fitness.jl\");\n",
    "\n"
   ]
  },
  {
   "cell_type": "code",
   "execution_count": 48,
   "metadata": {},
   "outputs": [],
   "source": [
    "fnc = \"rosenbrock\";\n",
    "D = 5;                    # Dimension of the test fitness function.\n",
    "bL = -5*ones(D,1);        # lower limit of the parameters for the optimization\n",
    "bU = 5*ones(D,1);         # Upper limit of the parameters for the optimization\n"
   ]
  },
  {
   "cell_type": "code",
   "execution_count": 49,
   "metadata": {},
   "outputs": [],
   "source": [
    "# Setting up the parameters for the optimization algorithm\n",
    "\n",
    "           \n",
    "gmax = 100;               # Maximum number of generations (max iteration number)\n",
    "Ns = 20;                  # tests for step variation\n",
    "NT = 15;                  # tests for temperature reduction\n",
    "rT = 0.85;                # reduction coefficient\n",
    "ci = 2;                   # varying criterion\n",
    "\n"
   ]
  },
  {
   "cell_type": "code",
   "execution_count": 50,
   "metadata": {},
   "outputs": [
    {
     "name": "stdout",
     "output_type": "stream",
     "text": [
      "Initial temperature, T0 = 163.92297552832574\n"
     ]
    }
   ],
   "source": [
    "# Calculating the starting temperature, T0\n",
    "# There are multiple methods for selecting the starting temperature. It is usually kept at the same\n",
    "# order of magnitude as the standard deviation of the cost/fitness function.\n",
    "# Here, we select the maximum deviation of the fitness function over the solution space as the initial temperature.\n",
    "\n",
    "Nrand = 200;  # number of random points on the solution space.\n",
    "\n",
    "# Generating some random samples within the optimization space and calculating the fitness value.\n",
    "ft = zeros(Nrand,1);\n",
    "for m = 1:Nrand\n",
    "    xt = bL + rand(D,1).*(bU - bL);\n",
    "    ft[m] = fitness(xt,fnc);\n",
    "end\n",
    "\n",
    "\n",
    "\n",
    "# T = maximum(ft)-minimum(ft);\n",
    "T = 10*sqrt(var(ft));\n",
    "\n",
    "println(\"Initial temperature, T0 = \", T)\n"
   ]
  },
  {
   "cell_type": "code",
   "execution_count": 51,
   "metadata": {},
   "outputs": [],
   "source": [
    "# Setting up variables for the optimization algorithm\n",
    "\n",
    "x = rand(D,1);                      # random starting point. It can also be set as zero or random\n",
    "x = bL + rand(D,1).*(bU - bL);      # starting point mapped into solution space\n",
    "v0 = (bU-bL)./2;                    # starting step vector\n",
    "f = fitness(x,fnc);                     # initial fitness value\n",
    "\n",
    "xmod = copy(x); \n",
    "ncounter = zeros(D,1);\n",
    "\n",
    "xopt = zeros(D,gmax);              # the solution vector at each iteration step will be saved in this variable\n",
    "fopt = zeros(gmax,1);              # the fitness value at each iteration step will be saved in this variable\n",
    "\n",
    "xopt[:,1] = copy(x);\n",
    "fopt[1] = copy(f);  "
   ]
  },
  {
   "cell_type": "code",
   "execution_count": 53,
   "metadata": {
    "scrolled": false
   },
   "outputs": [
    {
     "name": "stdout",
     "output_type": "stream",
     "text": [
      "Progress = 100.0% ▓▓▓▓▓▓▓▓▓▓▓▓▓▓▓▓▓▓▓▓\n",
      "elapsed time: 0.350279901 seconds\n"
     ]
    },
    {
     "data": {
      "image/png": "[encoded data removed]",
      "text/plain": [
       "PyPlot.Figure(PyObject <Figure size 640x480 with 1 Axes>)"
      ]
     },
     "metadata": {},
     "output_type": "display_data"
    },
    {
     "name": "stdout",
     "output_type": "stream",
     "text": [
      "Optimized parameters = [-5.92134e-7, 1.89413e-7, -3.04271e-7, 6.10283e-7, -4.13604e-7]\n",
      "41239\n"
     ]
    }
   ],
   "source": [
    "# Simulated annealing optimization algorithm\n",
    "# Ref. Angelo Corana et al. \"Minimizing Multimodal Functions Of Continuous-Variables with Simulated Annealing Algorithm\" (1987)\n",
    "\n",
    "# Notes: June 3, 2018. The speed of the code seemed to be T dependent. This didn't make sense. Check the exp() function with\n",
    "# T in it. Did some modification there. Added an epsilon to the numerator and denominator. Checked the braces. That solved the\n",
    "# issue. Then, I removed the epsilon and the code still worked fine. Maybe there was a bracked mismatch or something. \n",
    "\n",
    "\n",
    "t1 = 1000*((60*Dates.hour(now()) + Dates.minute(now()))*60 + Dates.second(now())) + Dates.millisecond(now());\n",
    "glb_cnt = 0;\n",
    "epsilon =0;\n",
    "tic()\n",
    "for g = 1:gmax                                # Main iteration loop\n",
    "    t2 = 1000*((60*Dates.hour(now()) + Dates.minute(now()))*60 + Dates.second(now())) + Dates.millisecond(now());\n",
    "    \n",
    "    if (t2 - t1 > 100)  || (g == gmax)                       # if ellapsed time > 100ms, then print progress bar\n",
    "        progress_bar(g,gmax,20);\n",
    "        t1 = copy(t2);\n",
    "    end\n",
    "    \n",
    "    v = copy(v0);\n",
    "    \n",
    "    if g > 1\n",
    "        xopt[:,g] = copy(xopt[:,g-1]);\n",
    "        fopt[g] = copy(fopt[g-1]);\n",
    "    end\n",
    "    \n",
    "    for nt = 1:NT                            # Looping over temperature reduction tests                   \n",
    "        \n",
    "        for j = 1:Ns                         # Looping over step variation tests     \n",
    "            \n",
    "            for m = 1:D                      # looping over each dimension\n",
    "               \n",
    "                xmod[m] = x[m] + 2*(rand(1)[1] -0.5)*v[m];\n",
    "                while (xmod[m] > bU[m]) || (xmod[m] < bL[m])               # check if within limit\n",
    "                    xmod[m] = x[m] + 2*(rand(1)[1] -0.5)*v[m];             # if not, repeat\n",
    "                end\n",
    "         \n",
    "                fmod = fitness(xmod,fnc);\n",
    "                \n",
    "                \n",
    "                # User Metropolis criterion to decide whether to accept xmod or not. The criterion is:\n",
    "                # if fmod > f, then accept\n",
    "                # else, check if a random sample is less than  exp((fmod - f)/T). if so, accept\n",
    "                # otherwise, reject\n",
    "                \n",
    "                if (fmod > f) || (rand(1)[1] < exp(  (fmod - f) / T ) )     \n",
    "                    \n",
    "                    glb_cnt = glb_cnt + 1;\n",
    "                    x[m] = copy(xmod[m]);\n",
    "                    f = copy(fmod);\n",
    "                    ncounter[m] += ncounter[m];  # count the number of accepted case\n",
    "                    if fmod > fopt[g]\n",
    "                        xopt[:,g] = copy(xmod);\n",
    "                        fopt[g] = copy(fmod);\n",
    "                    end\n",
    "                end\n",
    "                \n",
    "                \n",
    "            end\n",
    "        end\n",
    "        \n",
    "        \n",
    "        # Calculate new step vector in each direction\n",
    "        for u = 1:D\n",
    "            if ncounter[u]/Ns > 0.6\n",
    "                v[u] = v[u]*(1+ ci/0.4*(ncounter[u]/Ns - 0.6));\n",
    "            elseif ncounter[u]/Ns < 0.4\n",
    "                v[u] = v[u]/(1+ ci/0.4*(0.4-ncounter[u]/Ns));\n",
    "            end\n",
    "            \n",
    "        end\n",
    "\n",
    "        ncounter = zeros(D,1);\n",
    "    end\n",
    "    \n",
    "    \n",
    "    T = T*rT;    # reduce temperature\n",
    "    \n",
    "end\n",
    "\n",
    "println(\"\");\n",
    "toc();\n",
    "sleep(0.5);\n",
    "\n",
    "println(\"Optimized parameters = \", xopt[:,end])\n",
    "\n",
    "plot(fopt)\n",
    "xlabel(\"Iteration number\");\n",
    "ylabel(\"Fitness value\");\n",
    "\n",
    "println(glb_cnt)"
   ]
  },
  {
   "cell_type": "code",
   "execution_count": null,
   "metadata": {},
   "outputs": [],
   "source": [
    "fnc = \"ackley\";\n",
    "fnc == \"ackley\""
   ]
  },
  {
   "cell_type": "code",
   "execution_count": 34,
   "metadata": {},
   "outputs": [
    {
     "data": {
      "text/plain": [
       "0.0"
      ]
     },
     "execution_count": 34,
     "metadata": {},
     "output_type": "execute_result"
    }
   ],
   "source": [
    "x = 0;\n",
    "y = 0;\n",
    "        f = -20*exp(-0.2* ( 0.5*(x^2 + y^2) )^0.5 ) - exp( 0.5*( cos(2*pi*x) + cos(2*pi*y) )) + exp(1) + 20     \n"
   ]
  },
  {
   "cell_type": "code",
   "execution_count": 54,
   "metadata": {},
   "outputs": [
    {
     "data": {
      "text/plain": [
       "5"
      ]
     },
     "execution_count": 54,
     "metadata": {},
     "output_type": "execute_result"
    }
   ],
   "source": [
    "A = [1 2 3 4 1];\n",
    "length(A)"
   ]
  },
  {
   "cell_type": "code",
   "execution_count": null,
   "metadata": {},
   "outputs": [],
   "source": []
  }
 ],
 "metadata": {
  "kernelspec": {
   "display_name": "Julia 0.6.3",
   "language": "julia",
   "name": "julia-0.6"
  },
  "language_info": {
   "file_extension": ".jl",
   "mimetype": "application/julia",
   "name": "julia",
   "version": "0.6.3"
  }
 },
 "nbformat": 4,
 "nbformat_minor": 1
}
